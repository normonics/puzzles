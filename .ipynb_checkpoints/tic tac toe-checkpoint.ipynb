{
 "cells": [
  {
   "cell_type": "markdown",
   "metadata": {},
   "source": [
    "If each player plays randomly, what is the probablity player 1 wins the game?"
   ]
  },
  {
   "cell_type": "code",
   "execution_count": 1,
   "metadata": {
    "collapsed": true
   },
   "outputs": [],
   "source": [
    "import itertools\n",
    "\n",
    "states = [x for x in range(1,10)]\n",
    "games_dirty = [y for y in itertools.permutations(states,9)]\n",
    "win_states = [{1,2,3},{4,5,6},{7,8,9},{1,4,7},{2,5,8},{3,6,9},{1,5,9},{3,5,7}]"
   ]
  },
  {
   "cell_type": "code",
   "execution_count": 2,
   "metadata": {},
   "outputs": [],
   "source": [
    "def check_if_win(states):\n",
    "    win = False\n",
    "    for win_state in win_states:\n",
    "        if win_state.issubset(states):\n",
    "            win = True\n",
    "            break\n",
    "    return win"
   ]
  },
  {
   "cell_type": "code",
   "execution_count": 3,
   "metadata": {},
   "outputs": [],
   "source": [
    "games_clean = {'p1_wins':[], 'p2_wins':[], 'draws':[]}\n",
    "for i,game in enumerate(games_dirty):\n",
    "    game_on = True\n",
    "    for turn_n in range(5,10):\n",
    "        if turn_n%2:\n",
    "            p_1_states = set(game[0:turn_n][0::2])\n",
    "            if check_if_win(p_1_states):\n",
    "#                 print(i,'p1')\n",
    "                games_clean['p1_wins'].append(game[0:turn_n])\n",
    "                game_on = False\n",
    "                break   \n",
    "        else:\n",
    "            p_2_states = set(game[0:turn_n][1::2])\n",
    "            if check_if_win(p_2_states):\n",
    "#                 print(i,'p2')\n",
    "                games_clean['p2_wins'].append(game[0:turn_n])\n",
    "                game_on = False\n",
    "                break\n",
    "    if game_on:\n",
    "#         print(i, 'draw')\n",
    "        games_clean['draws'].append(game)\n",
    "            \n",
    "\n",
    "games_clean['p1_wins'] = set(games_clean['p1_wins'])\n",
    "games_clean['p2_wins'] = set(games_clean['p2_wins'])"
   ]
  },
  {
   "cell_type": "code",
   "execution_count": 4,
   "metadata": {},
   "outputs": [
    {
     "name": "stdout",
     "output_type": "stream",
     "text": [
      "total number of possible games:  255168\n",
      "total number of ways p1 wins:  131184\n",
      "proportion of games p1 wins:  0.5141083521444695\n",
      "total number of ways p2 wins:  77904\n",
      "proportion of games p2 wins:  0.30530474040632055\n",
      "total number of draws:  46080\n",
      "proportion of games ending in draw:  0.18058690744920994\n"
     ]
    }
   ],
   "source": [
    "total_games = len(games_clean['p1_wins']) + len(games_clean['p2_wins']) + len(games_clean['draws'])\n",
    "\n",
    "print('total number of possible games: ', total_games)\n",
    "print('total number of ways p1 wins: ', len(games_clean['p1_wins']))\n",
    "print('proportion of games p1 wins: ', len(games_clean['p1_wins'])/float(total_games)) \n",
    "\n",
    "print('total number of ways p2 wins: ', len(games_clean['p2_wins']))\n",
    "print('proportion of games p2 wins: ', len(games_clean['p2_wins'])/float(total_games)) \n",
    "\n",
    "print('total number of draws: ', len(games_clean['draws']))\n",
    "print('proportion of games ending in draw: ', len(games_clean['draws'])/float(total_games)) "
   ]
  }
 ],
 "metadata": {
  "kernelspec": {
   "display_name": "Python 3",
   "language": "python",
   "name": "python3"
  },
  "language_info": {
   "codemirror_mode": {
    "name": "ipython",
    "version": 3
   },
   "file_extension": ".py",
   "mimetype": "text/x-python",
   "name": "python",
   "nbconvert_exporter": "python",
   "pygments_lexer": "ipython3",
   "version": "3.6.4"
  }
 },
 "nbformat": 4,
 "nbformat_minor": 2
}
