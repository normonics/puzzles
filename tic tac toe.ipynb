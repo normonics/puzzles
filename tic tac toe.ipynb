{
 "cells": [
  {
   "cell_type": "markdown",
   "metadata": {},
   "source": [
    "If each player plays randomly, what is the probablity player 1 wins the game?"
   ]
  },
  {
   "cell_type": "code",
   "execution_count": 1,
   "metadata": {
    "collapsed": true
   },
   "outputs": [],
   "source": [
    "import itertools\n",
    "\n",
    "states = [x for x in range(1,10)]\n",
    "games_dirty = [y for y in itertools.permutations(states,9)]\n",
    "win_states = [{1,2,3},{4,5,6},{7,8,9},{1,4,7},{2,5,8},{3,6,9},{1,5,9},{3,5,7}]"
   ]
  },
  {
   "cell_type": "code",
   "execution_count": 2,
   "metadata": {},
   "outputs": [],
   "source": [
    "indexes_to_delete = []\n",
    "games_clean = {'p1_wins':[], 'p2_wins':[], 'draws':[]}\n",
    "for i,game in enumerate(games_dirty):\n",
    "    game_open = True\n",
    "    while game_open:\n",
    "        turn_n = 5\n",
    "        while turn_n < 10:\n",
    "            if turn_n%2: # if the turn is odd, i.e. P1's turn\n",
    "                p_1_recent_state = game[0:turn_n][0::2][-3:] # look at latest 3 move by P_1 to determine if win achieved\n",
    "                if set(p_1_recent_state) in win_states:\n",
    "                    # print(i,'p_1')\n",
    "                    games_clean['p1_wins'].append(game[0:turn_n])\n",
    "                    game_open = False\n",
    "                    turn_n = 10\n",
    "                else:\n",
    "                    turn_n += 1\n",
    "            else:\n",
    "                p_2_recent_state = game[0:turn_n][1::2][-3:] # look at latest 3 move by P_2 to determine if win achieved\n",
    "                if set(p_2_recent_state) in win_states:\n",
    "                    # print(i,'p_2')\n",
    "                    games_clean['p2_wins'].append(game[0:turn_n])\n",
    "                    game_open = False\n",
    "                    turn_n = 10\n",
    "                else:\n",
    "                    turn_n += 1\n",
    "        if game_open:\n",
    "            # print(i,'draw')            \n",
    "            games_clean['draws'].append(game)\n",
    "            game_open = False\n",
    "\n",
    "games_clean['p1_wins'] = set(games_clean['p1_wins'])\n",
    "games_clean['p2_wins'] = set(games_clean['p2_wins'])"
   ]
  },
  {
   "cell_type": "code",
   "execution_count": 3,
   "metadata": {},
   "outputs": [
    {
     "name": "stdout",
     "output_type": "stream",
     "text": [
      "total number of possible games:  287136\n",
      "total number of ways p1 wins:  42576\n",
      "proportion of games p1 wins:  0.14827816783684386\n",
      "total number of ways p2 wins:  34704\n",
      "proportion of games p2 wins:  0.12086258776328987\n",
      "total number of draws:  209856\n",
      "proportion of games ending in draw:  0.7308592443998663\n"
     ]
    }
   ],
   "source": [
    "total_games = len(games_clean['p1_wins']) + len(games_clean['p2_wins']) + len(games_clean['draws'])\n",
    "\n",
    "print('total number of possible games: ', total_games)\n",
    "print('total number of ways p1 wins: ', len(games_clean['p1_wins']))\n",
    "print('proportion of games p1 wins: ', len(games_clean['p1_wins'])/float(total_games)) \n",
    "\n",
    "print('total number of ways p2 wins: ', len(games_clean['p2_wins']))\n",
    "print('proportion of games p2 wins: ', len(games_clean['p2_wins'])/float(total_games)) \n",
    "\n",
    "print('total number of draws: ', len(games_clean['draws']))\n",
    "print('proportion of games ending in draw: ', len(games_clean['draws'])/float(total_games)) "
   ]
  }
 ],
 "metadata": {
  "kernelspec": {
   "display_name": "Python 3",
   "language": "python",
   "name": "python3"
  },
  "language_info": {
   "codemirror_mode": {
    "name": "ipython",
    "version": 3
   },
   "file_extension": ".py",
   "mimetype": "text/x-python",
   "name": "python",
   "nbconvert_exporter": "python",
   "pygments_lexer": "ipython3",
   "version": "3.6.4"
  }
 },
 "nbformat": 4,
 "nbformat_minor": 2
}
